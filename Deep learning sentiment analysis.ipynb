{
 "cells": [
  {
   "attachments": {},
   "cell_type": "markdown",
   "metadata": {},
   "source": [
    "# Sentiment Analysis using Deep learning"
   ]
  },
  {
   "attachments": {},
   "cell_type": "markdown",
   "metadata": {},
   "source": [
    "#  Install and load some packages"
   ]
  },
  {
   "cell_type": "code",
   "execution_count": 1,
   "metadata": {},
   "outputs": [
    {
     "name": "stdout",
     "output_type": "stream",
     "text": [
      "2.10.0\n"
     ]
    }
   ],
   "source": [
    "import tensorflow as tf\n",
    "print(tf.__version__)\n",
    "from tensorflow import keras\n",
    "from tensorflow.keras import Sequential\n",
    "from tensorflow.keras.layers import Flatten, Dense\n",
    "from tensorflow.keras.optimizers import Adam"
   ]
  },
  {
   "cell_type": "code",
   "execution_count": 2,
   "metadata": {},
   "outputs": [
    {
     "name": "stdout",
     "output_type": "stream",
     "text": [
      "Collecting git+https://****@github.com/lvsuno/Text-preprocessing.git\n",
      "  Cloning https://****@github.com/lvsuno/Text-preprocessing.git to /private/var/folders/7v/syzn01012_3fnr7bzfw4zzl40000gp/T/pip-req-build-6gzsbv5r\n",
      "  Running command git clone --filter=blob:none --quiet 'https://****@github.com/lvsuno/Text-preprocessing.git' /private/var/folders/7v/syzn01012_3fnr7bzfw4zzl40000gp/T/pip-req-build-6gzsbv5r\n",
      "  Resolved https://****@github.com/lvsuno/Text-preprocessing.git to commit c17e60a4fae6b70b9247760daa05248fcc981b7b\n",
      "  Preparing metadata (setup.py) ... \u001b[?25ldone\n",
      "\u001b[?25hBuilding wheels for collected packages: preprocess-lvsuno\n",
      "  Building wheel for preprocess-lvsuno (setup.py) ... \u001b[?25ldone\n",
      "\u001b[?25h  Created wheel for preprocess-lvsuno: filename=preprocess_lvsuno-0.0.4-py3-none-any.whl size=3800 sha256=4d3bac165ed9b74b6ca90309f2676a47329bcd4107287106c6a470545a5a7e3f\n",
      "  Stored in directory: /private/var/folders/7v/syzn01012_3fnr7bzfw4zzl40000gp/T/pip-ephem-wheel-cache-nvwgtbn7/wheels/1e/6b/54/83a9ab63261b01ffa4e7f32a2529208f449833e5954c7f80d6\n",
      "Successfully built preprocess-lvsuno\n",
      "Installing collected packages: preprocess-lvsuno\n",
      "Successfully installed preprocess-lvsuno-0.0.4\n"
     ]
    }
   ],
   "source": [
    "%python -m pip install git+https://git@github.com/lvsuno/Text-preprocessing.git"
   ]
  },
  {
   "cell_type": "code",
   "execution_count": 3,
   "metadata": {},
   "outputs": [
    {
     "name": "stdout",
     "output_type": "stream",
     "text": [
      "Collecting spacy\n",
      "  Using cached spacy-3.5.1-cp310-cp310-macosx_11_0_arm64.whl (6.6 MB)\n",
      "Requirement already satisfied: setuptools in /Users/elvist/miniconda3/envs/tensorflow/lib/python3.10/site-packages (from spacy) (67.6.1)\n",
      "Collecting srsly<3.0.0,>=2.4.3\n",
      "  Using cached srsly-2.4.6-cp310-cp310-macosx_11_0_arm64.whl (490 kB)\n",
      "Collecting preshed<3.1.0,>=3.0.2\n",
      "  Using cached preshed-3.0.8-cp310-cp310-macosx_11_0_arm64.whl (101 kB)\n",
      "Requirement already satisfied: tqdm<5.0.0,>=4.38.0 in /Users/elvist/miniconda3/envs/tensorflow/lib/python3.10/site-packages (from spacy) (4.65.0)\n",
      "Collecting catalogue<2.1.0,>=2.0.6\n",
      "  Using cached catalogue-2.0.8-py3-none-any.whl (17 kB)\n",
      "Requirement already satisfied: jinja2 in /Users/elvist/miniconda3/envs/tensorflow/lib/python3.10/site-packages (from spacy) (3.1.2)\n",
      "Collecting typer<0.8.0,>=0.3.0\n",
      "  Using cached typer-0.7.0-py3-none-any.whl (38 kB)\n",
      "Collecting murmurhash<1.1.0,>=0.28.0\n",
      "  Using cached murmurhash-1.0.9-cp310-cp310-macosx_11_0_arm64.whl (19 kB)\n",
      "Collecting thinc<8.2.0,>=8.1.8\n",
      "  Using cached thinc-8.1.9-cp310-cp310-macosx_11_0_arm64.whl (775 kB)\n",
      "Collecting pathy>=0.10.0\n",
      "  Using cached pathy-0.10.1-py3-none-any.whl (48 kB)\n",
      "Collecting spacy-legacy<3.1.0,>=3.0.11\n",
      "  Using cached spacy_legacy-3.0.12-py2.py3-none-any.whl (29 kB)\n",
      "Collecting smart-open<7.0.0,>=5.2.1\n",
      "  Using cached smart_open-6.3.0-py3-none-any.whl (56 kB)\n",
      "Collecting cymem<2.1.0,>=2.0.2\n",
      "  Using cached cymem-2.0.7-cp310-cp310-macosx_11_0_arm64.whl (30 kB)\n",
      "Requirement already satisfied: requests<3.0.0,>=2.13.0 in /Users/elvist/miniconda3/envs/tensorflow/lib/python3.10/site-packages (from spacy) (2.28.2)\n",
      "Collecting pydantic!=1.8,!=1.8.1,<1.11.0,>=1.7.4\n",
      "  Using cached pydantic-1.10.7-cp310-cp310-macosx_11_0_arm64.whl (2.5 MB)\n",
      "Requirement already satisfied: packaging>=20.0 in /Users/elvist/miniconda3/envs/tensorflow/lib/python3.10/site-packages (from spacy) (23.0)\n",
      "Collecting langcodes<4.0.0,>=3.2.0\n",
      "  Using cached langcodes-3.3.0-py3-none-any.whl (181 kB)\n",
      "Requirement already satisfied: numpy>=1.15.0 in /Users/elvist/miniconda3/envs/tensorflow/lib/python3.10/site-packages (from spacy) (1.23.2)\n",
      "Collecting spacy-loggers<2.0.0,>=1.0.0\n",
      "  Using cached spacy_loggers-1.0.4-py3-none-any.whl (11 kB)\n",
      "Collecting wasabi<1.2.0,>=0.9.1\n",
      "  Using cached wasabi-1.1.1-py3-none-any.whl (27 kB)\n",
      "Requirement already satisfied: typing-extensions>=4.2.0 in /Users/elvist/miniconda3/envs/tensorflow/lib/python3.10/site-packages (from pydantic!=1.8,!=1.8.1,<1.11.0,>=1.7.4->spacy) (4.5.0)\n",
      "Requirement already satisfied: charset-normalizer<4,>=2 in /Users/elvist/miniconda3/envs/tensorflow/lib/python3.10/site-packages (from requests<3.0.0,>=2.13.0->spacy) (2.1.1)\n",
      "Requirement already satisfied: idna<4,>=2.5 in /Users/elvist/miniconda3/envs/tensorflow/lib/python3.10/site-packages (from requests<3.0.0,>=2.13.0->spacy) (3.4)\n",
      "Requirement already satisfied: certifi>=2017.4.17 in /Users/elvist/miniconda3/envs/tensorflow/lib/python3.10/site-packages (from requests<3.0.0,>=2.13.0->spacy) (2022.12.7)\n",
      "Requirement already satisfied: urllib3<1.27,>=1.21.1 in /Users/elvist/miniconda3/envs/tensorflow/lib/python3.10/site-packages (from requests<3.0.0,>=2.13.0->spacy) (1.26.15)\n",
      "Collecting blis<0.8.0,>=0.7.8\n",
      "  Using cached blis-0.7.9-cp310-cp310-macosx_11_0_arm64.whl (1.1 MB)\n",
      "Collecting confection<1.0.0,>=0.0.1\n",
      "  Using cached confection-0.0.4-py3-none-any.whl (32 kB)\n",
      "Requirement already satisfied: click<9.0.0,>=7.1.1 in /Users/elvist/miniconda3/envs/tensorflow/lib/python3.10/site-packages (from typer<0.8.0,>=0.3.0->spacy) (8.1.3)\n",
      "Requirement already satisfied: MarkupSafe>=2.0 in /Users/elvist/miniconda3/envs/tensorflow/lib/python3.10/site-packages (from jinja2->spacy) (2.1.2)\n",
      "Installing collected packages: cymem, wasabi, typer, spacy-loggers, spacy-legacy, smart-open, pydantic, murmurhash, langcodes, catalogue, blis, srsly, preshed, pathy, confection, thinc, spacy\n",
      "Successfully installed blis-0.7.9 catalogue-2.0.8 confection-0.0.4 cymem-2.0.7 langcodes-3.3.0 murmurhash-1.0.9 pathy-0.10.1 preshed-3.0.8 pydantic-1.10.7 smart-open-6.3.0 spacy-3.5.1 spacy-legacy-3.0.12 spacy-loggers-1.0.4 srsly-2.4.6 thinc-8.1.9 typer-0.7.0 wasabi-1.1.1\n",
      "Collecting en-core-web-lg==3.5.0\n",
      "  Downloading https://github.com/explosion/spacy-models/releases/download/en_core_web_lg-3.5.0/en_core_web_lg-3.5.0-py3-none-any.whl (587.7 MB)\n",
      "\u001b[2K     \u001b[90m━━━━━━━━━━━━━━━━━━━━━━━━━━━━━━━━━━━━━\u001b[0m \u001b[32m587.7/587.7 MB\u001b[0m \u001b[31m722.3 kB/s\u001b[0m eta \u001b[36m0:00:00\u001b[0m00:01\u001b[0m00:32\u001b[0m\n",
      "\u001b[?25hRequirement already satisfied: spacy<3.6.0,>=3.5.0 in /Users/elvist/miniconda3/envs/tensorflow/lib/python3.10/site-packages (from en-core-web-lg==3.5.0) (3.5.1)\n",
      "Requirement already satisfied: preshed<3.1.0,>=3.0.2 in /Users/elvist/miniconda3/envs/tensorflow/lib/python3.10/site-packages (from spacy<3.6.0,>=3.5.0->en-core-web-lg==3.5.0) (3.0.8)\n",
      "Requirement already satisfied: pydantic!=1.8,!=1.8.1,<1.11.0,>=1.7.4 in /Users/elvist/miniconda3/envs/tensorflow/lib/python3.10/site-packages (from spacy<3.6.0,>=3.5.0->en-core-web-lg==3.5.0) (1.10.7)\n",
      "Requirement already satisfied: murmurhash<1.1.0,>=0.28.0 in /Users/elvist/miniconda3/envs/tensorflow/lib/python3.10/site-packages (from spacy<3.6.0,>=3.5.0->en-core-web-lg==3.5.0) (1.0.9)\n",
      "Requirement already satisfied: jinja2 in /Users/elvist/miniconda3/envs/tensorflow/lib/python3.10/site-packages (from spacy<3.6.0,>=3.5.0->en-core-web-lg==3.5.0) (3.1.2)\n",
      "Requirement already satisfied: spacy-loggers<2.0.0,>=1.0.0 in /Users/elvist/miniconda3/envs/tensorflow/lib/python3.10/site-packages (from spacy<3.6.0,>=3.5.0->en-core-web-lg==3.5.0) (1.0.4)\n",
      "Requirement already satisfied: packaging>=20.0 in /Users/elvist/miniconda3/envs/tensorflow/lib/python3.10/site-packages (from spacy<3.6.0,>=3.5.0->en-core-web-lg==3.5.0) (23.0)\n",
      "Requirement already satisfied: catalogue<2.1.0,>=2.0.6 in /Users/elvist/miniconda3/envs/tensorflow/lib/python3.10/site-packages (from spacy<3.6.0,>=3.5.0->en-core-web-lg==3.5.0) (2.0.8)\n",
      "Requirement already satisfied: smart-open<7.0.0,>=5.2.1 in /Users/elvist/miniconda3/envs/tensorflow/lib/python3.10/site-packages (from spacy<3.6.0,>=3.5.0->en-core-web-lg==3.5.0) (6.3.0)\n",
      "Requirement already satisfied: typer<0.8.0,>=0.3.0 in /Users/elvist/miniconda3/envs/tensorflow/lib/python3.10/site-packages (from spacy<3.6.0,>=3.5.0->en-core-web-lg==3.5.0) (0.7.0)\n",
      "Requirement already satisfied: pathy>=0.10.0 in /Users/elvist/miniconda3/envs/tensorflow/lib/python3.10/site-packages (from spacy<3.6.0,>=3.5.0->en-core-web-lg==3.5.0) (0.10.1)\n",
      "Requirement already satisfied: numpy>=1.15.0 in /Users/elvist/miniconda3/envs/tensorflow/lib/python3.10/site-packages (from spacy<3.6.0,>=3.5.0->en-core-web-lg==3.5.0) (1.23.2)\n",
      "Requirement already satisfied: requests<3.0.0,>=2.13.0 in /Users/elvist/miniconda3/envs/tensorflow/lib/python3.10/site-packages (from spacy<3.6.0,>=3.5.0->en-core-web-lg==3.5.0) (2.28.2)\n",
      "Requirement already satisfied: langcodes<4.0.0,>=3.2.0 in /Users/elvist/miniconda3/envs/tensorflow/lib/python3.10/site-packages (from spacy<3.6.0,>=3.5.0->en-core-web-lg==3.5.0) (3.3.0)\n",
      "Requirement already satisfied: srsly<3.0.0,>=2.4.3 in /Users/elvist/miniconda3/envs/tensorflow/lib/python3.10/site-packages (from spacy<3.6.0,>=3.5.0->en-core-web-lg==3.5.0) (2.4.6)\n",
      "Requirement already satisfied: tqdm<5.0.0,>=4.38.0 in /Users/elvist/miniconda3/envs/tensorflow/lib/python3.10/site-packages (from spacy<3.6.0,>=3.5.0->en-core-web-lg==3.5.0) (4.65.0)\n",
      "Requirement already satisfied: wasabi<1.2.0,>=0.9.1 in /Users/elvist/miniconda3/envs/tensorflow/lib/python3.10/site-packages (from spacy<3.6.0,>=3.5.0->en-core-web-lg==3.5.0) (1.1.1)\n",
      "Requirement already satisfied: cymem<2.1.0,>=2.0.2 in /Users/elvist/miniconda3/envs/tensorflow/lib/python3.10/site-packages (from spacy<3.6.0,>=3.5.0->en-core-web-lg==3.5.0) (2.0.7)\n",
      "Requirement already satisfied: thinc<8.2.0,>=8.1.8 in /Users/elvist/miniconda3/envs/tensorflow/lib/python3.10/site-packages (from spacy<3.6.0,>=3.5.0->en-core-web-lg==3.5.0) (8.1.9)\n",
      "Requirement already satisfied: setuptools in /Users/elvist/miniconda3/envs/tensorflow/lib/python3.10/site-packages (from spacy<3.6.0,>=3.5.0->en-core-web-lg==3.5.0) (67.6.1)\n",
      "Requirement already satisfied: spacy-legacy<3.1.0,>=3.0.11 in /Users/elvist/miniconda3/envs/tensorflow/lib/python3.10/site-packages (from spacy<3.6.0,>=3.5.0->en-core-web-lg==3.5.0) (3.0.12)\n",
      "Requirement already satisfied: typing-extensions>=4.2.0 in /Users/elvist/miniconda3/envs/tensorflow/lib/python3.10/site-packages (from pydantic!=1.8,!=1.8.1,<1.11.0,>=1.7.4->spacy<3.6.0,>=3.5.0->en-core-web-lg==3.5.0) (4.5.0)\n",
      "Requirement already satisfied: urllib3<1.27,>=1.21.1 in /Users/elvist/miniconda3/envs/tensorflow/lib/python3.10/site-packages (from requests<3.0.0,>=2.13.0->spacy<3.6.0,>=3.5.0->en-core-web-lg==3.5.0) (1.26.15)\n",
      "Requirement already satisfied: certifi>=2017.4.17 in /Users/elvist/miniconda3/envs/tensorflow/lib/python3.10/site-packages (from requests<3.0.0,>=2.13.0->spacy<3.6.0,>=3.5.0->en-core-web-lg==3.5.0) (2022.12.7)\n",
      "Requirement already satisfied: idna<4,>=2.5 in /Users/elvist/miniconda3/envs/tensorflow/lib/python3.10/site-packages (from requests<3.0.0,>=2.13.0->spacy<3.6.0,>=3.5.0->en-core-web-lg==3.5.0) (3.4)\n",
      "Requirement already satisfied: charset-normalizer<4,>=2 in /Users/elvist/miniconda3/envs/tensorflow/lib/python3.10/site-packages (from requests<3.0.0,>=2.13.0->spacy<3.6.0,>=3.5.0->en-core-web-lg==3.5.0) (2.1.1)\n",
      "Requirement already satisfied: blis<0.8.0,>=0.7.8 in /Users/elvist/miniconda3/envs/tensorflow/lib/python3.10/site-packages (from thinc<8.2.0,>=8.1.8->spacy<3.6.0,>=3.5.0->en-core-web-lg==3.5.0) (0.7.9)\n",
      "Requirement already satisfied: confection<1.0.0,>=0.0.1 in /Users/elvist/miniconda3/envs/tensorflow/lib/python3.10/site-packages (from thinc<8.2.0,>=8.1.8->spacy<3.6.0,>=3.5.0->en-core-web-lg==3.5.0) (0.0.4)\n",
      "Requirement already satisfied: click<9.0.0,>=7.1.1 in /Users/elvist/miniconda3/envs/tensorflow/lib/python3.10/site-packages (from typer<0.8.0,>=0.3.0->spacy<3.6.0,>=3.5.0->en-core-web-lg==3.5.0) (8.1.3)\n",
      "Requirement already satisfied: MarkupSafe>=2.0 in /Users/elvist/miniconda3/envs/tensorflow/lib/python3.10/site-packages (from jinja2->spacy<3.6.0,>=3.5.0->en-core-web-lg==3.5.0) (2.1.2)\n",
      "Installing collected packages: en-core-web-lg\n",
      "Successfully installed en-core-web-lg-3.5.0\n",
      "\u001b[38;5;2m✔ Download and installation successful\u001b[0m\n",
      "You can now load the package via spacy.load('en_core_web_lg')\n"
     ]
    }
   ],
   "source": [
    "%pip install -U spacy\n",
    "%python -m spacy download en_core_web_lg"
   ]
  },
  {
   "cell_type": "code",
   "execution_count": null,
   "metadata": {},
   "outputs": [],
   "source": []
  },
  {
   "cell_type": "code",
   "execution_count": 6,
   "metadata": {},
   "outputs": [],
   "source": [
    "import pandas as pd\n",
    "import numpy as np\n",
    "import spacy\n",
    "import preprocess_lvsuno as pl\n",
    "import matplotlib.pyplot as plt\n",
    "from sklearn.model_selection import train_test_split\n",
    "from sklearn.metrics import confusion_matrix, classification_report\n",
    "from sklearn.preprocessing import MinMaxScaler"
   ]
  },
  {
   "attachments": {},
   "cell_type": "markdown",
   "metadata": {},
   "source": [
    "## Load the dataset and define some preprocessing operations\n",
    "   * Removing emails, urls, html tags, specials characters, accented characters\n",
    "   * Get word of vec"
   ]
  },
  {
   "cell_type": "code",
   "execution_count": 7,
   "metadata": {},
   "outputs": [],
   "source": [
    "df = pd.read_csv('data/imdb_reviews.txt', sep='\\t', header=None)\n",
    "df.columns = ['reviews', 'sentiment']"
   ]
  },
  {
   "cell_type": "code",
   "execution_count": 89,
   "metadata": {},
   "outputs": [],
   "source": [
    "nlp = spacy.load('en_core_web_lg')\n",
    "\n",
    "def get_vec(w):\n",
    "    \"\"\"\n",
    "    param w: sentences or an ensemble of sentence\n",
    "    :return: a word vector\n",
    "    \"\"\"\n",
    "    do = nlp(w)\n",
    "    vec = do.vector\n",
    "    return vec"
   ]
  },
  {
   "cell_type": "code",
   "execution_count": 9,
   "metadata": {},
   "outputs": [],
   "source": [
    "def pre_pro(x):\n",
    "    x = str(x).lower()\n",
    "    x = pl.cont_exp(x)\n",
    "    x = pl.remove_emails(x)\n",
    "    x = pl.remove_html_tags(x)\n",
    "    x = pl.remove_urls(x)\n",
    "    x = pl.remove_special_chars(x)\n",
    "    x = pl.remove_accented_chars(x)\n",
    "    vec = get_vec(x)\n",
    "    return vec"
   ]
  },
  {
   "cell_type": "code",
   "execution_count": 10,
   "metadata": {},
   "outputs": [
    {
     "name": "stderr",
     "output_type": "stream",
     "text": [
      "/Users/elvist/miniconda3/envs/tensorflow/lib/python3.10/site-packages/preprocess_lvsuno/utils.py:170: MarkupResemblesLocatorWarning: The input looks more like a filename than markup. You may want to open this file and pass the filehandle into Beautiful Soup.\n",
      "  return BeautifulSoup(x, 'lxml').get_text().strip()\n"
     ]
    },
    {
     "data": {
      "text/plain": [
       "(748,)"
      ]
     },
     "execution_count": 10,
     "metadata": {},
     "output_type": "execute_result"
    }
   ],
   "source": [
    "df['vec'] = df['reviews'].apply(pre_pro)\n",
    "df['vec'].shape"
   ]
  },
  {
   "cell_type": "code",
   "execution_count": 11,
   "metadata": {},
   "outputs": [],
   "source": [
    "X= df['vec'].to_numpy()\n",
    "X = X.reshape(-1, 1)\n",
    "X = np.concatenate(np.concatenate(X, axis=0), axis=0).reshape(-1, 300)\n",
    "y = df['sentiment']"
   ]
  },
  {
   "cell_type": "code",
   "execution_count": 12,
   "metadata": {},
   "outputs": [
    {
     "data": {
      "text/plain": [
       "(748, 300)"
      ]
     },
     "execution_count": 12,
     "metadata": {},
     "output_type": "execute_result"
    }
   ],
   "source": [
    "X.shape"
   ]
  },
  {
   "attachments": {},
   "cell_type": "markdown",
   "metadata": {},
   "source": [
    "* Split into Training and testing sets"
   ]
  },
  {
   "cell_type": "code",
   "execution_count": 13,
   "metadata": {},
   "outputs": [],
   "source": [
    "X_train, X_test, y_train, y_test = train_test_split(X, y, test_size=0.2, random_state=1, stratify=y)"
   ]
  },
  {
   "attachments": {},
   "cell_type": "markdown",
   "metadata": {},
   "source": [
    "**Standardize the features**"
   ]
  },
  {
   "cell_type": "code",
   "execution_count": 14,
   "metadata": {},
   "outputs": [],
   "source": [
    "scaler = MinMaxScaler()\n",
    "X_train = scaler.fit_transform(X_train)\n",
    "X_test = scaler.transform(X_test)"
   ]
  },
  {
   "attachments": {},
   "cell_type": "markdown",
   "metadata": {},
   "source": [
    "## Building and Training"
   ]
  },
  {
   "attachments": {},
   "cell_type": "markdown",
   "metadata": {},
   "source": [
    "### A simple network with three Relu layers (with dense connection) and sigmoid at end"
   ]
  },
  {
   "cell_type": "code",
   "execution_count": 15,
   "metadata": {},
   "outputs": [
    {
     "name": "stdout",
     "output_type": "stream",
     "text": [
      "Metal device set to: Apple M1 Pro\n",
      "\n",
      "systemMemory: 32.00 GB\n",
      "maxCacheSize: 10.67 GB\n",
      "\n"
     ]
    },
    {
     "name": "stderr",
     "output_type": "stream",
     "text": [
      "2023-03-30 21:11:33.666477: I tensorflow/core/common_runtime/pluggable_device/pluggable_device_factory.cc:306] Could not identify NUMA node of platform GPU ID 0, defaulting to 0. Your kernel may not have been built with NUMA support.\n",
      "2023-03-30 21:11:33.666717: I tensorflow/core/common_runtime/pluggable_device/pluggable_device_factory.cc:272] Created TensorFlow device (/job:localhost/replica:0/task:0/device:GPU:0 with 0 MB memory) -> physical PluggableDevice (device: 0, name: METAL, pci bus id: <undefined>)\n"
     ]
    }
   ],
   "source": [
    "model = Sequential()\n",
    "model.add(Dense(units=128, activation='relu', input_dim=X.shape[1]))\n",
    "model.add(Dense(128, activation='relu'))\n",
    "model.add(Dense(128, activation='relu'))\n",
    "model.add(Dense(1, activation='sigmoid'))"
   ]
  },
  {
   "cell_type": "code",
   "execution_count": 16,
   "metadata": {},
   "outputs": [],
   "source": [
    "model.compile(optimizer=Adam(learning_rate=0.00005), loss='binary_crossentropy', metrics=['accuracy'])"
   ]
  },
  {
   "cell_type": "code",
   "execution_count": 17,
   "metadata": {},
   "outputs": [
    {
     "name": "stdout",
     "output_type": "stream",
     "text": [
      "Epoch 1/20\n"
     ]
    },
    {
     "name": "stderr",
     "output_type": "stream",
     "text": [
      "2023-03-30 21:11:52.189016: W tensorflow/core/platform/profile_utils/cpu_utils.cc:128] Failed to get CPU frequency: 0 Hz\n",
      "2023-03-30 21:11:52.419168: I tensorflow/core/grappler/optimizers/custom_graph_optimizer_registry.cc:114] Plugin optimizer for device_type GPU is enabled.\n"
     ]
    },
    {
     "name": "stdout",
     "output_type": "stream",
     "text": [
      "150/150 [==============================] - 3s 12ms/step - loss: 0.6950 - accuracy: 0.5351\n",
      "Epoch 2/20\n",
      "150/150 [==============================] - 1s 9ms/step - loss: 0.6849 - accuracy: 0.5619\n",
      "Epoch 3/20\n",
      "150/150 [==============================] - 1s 9ms/step - loss: 0.6755 - accuracy: 0.6037\n",
      "Epoch 4/20\n",
      "150/150 [==============================] - 1s 9ms/step - loss: 0.6669 - accuracy: 0.6054\n",
      "Epoch 5/20\n",
      "150/150 [==============================] - 1s 9ms/step - loss: 0.6575 - accuracy: 0.6438\n",
      "Epoch 6/20\n",
      "150/150 [==============================] - 1s 9ms/step - loss: 0.6478 - accuracy: 0.6572\n",
      "Epoch 7/20\n",
      "150/150 [==============================] - 1s 9ms/step - loss: 0.6336 - accuracy: 0.6789\n",
      "Epoch 8/20\n",
      "150/150 [==============================] - 1s 9ms/step - loss: 0.6318 - accuracy: 0.6689\n",
      "Epoch 9/20\n",
      "150/150 [==============================] - 1s 10ms/step - loss: 0.6214 - accuracy: 0.6773\n",
      "Epoch 10/20\n",
      "150/150 [==============================] - 1s 10ms/step - loss: 0.6101 - accuracy: 0.6923\n",
      "Epoch 11/20\n",
      "150/150 [==============================] - 1s 9ms/step - loss: 0.6005 - accuracy: 0.7090\n",
      "Epoch 12/20\n",
      "150/150 [==============================] - 1s 9ms/step - loss: 0.5880 - accuracy: 0.6940\n",
      "Epoch 13/20\n",
      "150/150 [==============================] - 1s 9ms/step - loss: 0.5792 - accuracy: 0.7057\n",
      "Epoch 14/20\n",
      "150/150 [==============================] - 1s 9ms/step - loss: 0.5702 - accuracy: 0.7207\n",
      "Epoch 15/20\n",
      "150/150 [==============================] - 1s 9ms/step - loss: 0.5613 - accuracy: 0.7258\n",
      "Epoch 16/20\n",
      "150/150 [==============================] - 1s 9ms/step - loss: 0.5496 - accuracy: 0.7274\n",
      "Epoch 17/20\n",
      "150/150 [==============================] - 1s 9ms/step - loss: 0.5332 - accuracy: 0.7324\n",
      "Epoch 18/20\n",
      "150/150 [==============================] - 1s 9ms/step - loss: 0.5237 - accuracy: 0.7458\n",
      "Epoch 19/20\n",
      "150/150 [==============================] - 1s 9ms/step - loss: 0.5171 - accuracy: 0.7408\n",
      "Epoch 20/20\n",
      "150/150 [==============================] - 1s 9ms/step - loss: 0.5018 - accuracy: 0.7676\n"
     ]
    },
    {
     "data": {
      "text/plain": [
       "<keras.callbacks.History at 0x2fba6eb00>"
      ]
     },
     "execution_count": 17,
     "metadata": {},
     "output_type": "execute_result"
    }
   ],
   "source": [
    "model.fit(X_train, y_train, batch_size=4, epochs=20)"
   ]
  },
  {
   "attachments": {},
   "cell_type": "markdown",
   "metadata": {},
   "source": [
    "#### Confusion Matrix"
   ]
  },
  {
   "cell_type": "code",
   "execution_count": 24,
   "metadata": {},
   "outputs": [
    {
     "data": {
      "text/plain": [
       "1    386\n",
       "0    362\n",
       "Name: sentiment, dtype: int64"
      ]
     },
     "execution_count": 24,
     "metadata": {},
     "output_type": "execute_result"
    }
   ],
   "source": [
    "y.value_counts()"
   ]
  },
  {
   "cell_type": "code",
   "execution_count": 25,
   "metadata": {},
   "outputs": [
    {
     "name": "stdout",
     "output_type": "stream",
     "text": [
      "5/5 [==============================] - 0s 3ms/step\n"
     ]
    }
   ],
   "source": [
    "y_pred = (model.predict(X_test) > 0.5).astype(\"int32\")"
   ]
  },
  {
   "cell_type": "code",
   "execution_count": 26,
   "metadata": {},
   "outputs": [
    {
     "data": {
      "text/plain": [
       "array([[50, 23],\n",
       "       [16, 61]])"
      ]
     },
     "execution_count": 26,
     "metadata": {},
     "output_type": "execute_result"
    }
   ],
   "source": [
    "confusion_matrix(y_test, y_pred)"
   ]
  },
  {
   "cell_type": "code",
   "execution_count": 28,
   "metadata": {},
   "outputs": [],
   "source": [
    "from mlxtend.plotting import plot_confusion_matrix"
   ]
  },
  {
   "cell_type": "code",
   "execution_count": 29,
   "metadata": {},
   "outputs": [
    {
     "data": {
      "image/png": "[encoded data removed]",
      "text/plain": [
       "<Figure size 640x480 with 1 Axes>"
      ]
     },
     "metadata": {},
     "output_type": "display_data"
    }
   ],
   "source": [
    "plot_confusion_matrix(confusion_matrix(y_test, y_pred))\n",
    "plt.show()"
   ]
  },
  {
   "cell_type": "code",
   "execution_count": 30,
   "metadata": {},
   "outputs": [
    {
     "name": "stdout",
     "output_type": "stream",
     "text": [
      "              precision    recall  f1-score   support\n",
      "\n",
      "           0       0.76      0.68      0.72        73\n",
      "           1       0.73      0.79      0.76        77\n",
      "\n",
      "    accuracy                           0.74       150\n",
      "   macro avg       0.74      0.74      0.74       150\n",
      "weighted avg       0.74      0.74      0.74       150\n",
      "\n"
     ]
    }
   ],
   "source": [
    "print(classification_report(y_test, y_pred))"
   ]
  },
  {
   "attachments": {},
   "cell_type": "markdown",
   "metadata": {},
   "source": [
    "### 1D CNN network"
   ]
  },
  {
   "cell_type": "code",
   "execution_count": 33,
   "metadata": {},
   "outputs": [],
   "source": [
    "from tensorflow.keras import Sequential\n",
    "from tensorflow.keras.layers import Flatten, Dense, Conv1D, BatchNormalization, Dropout"
   ]
  },
  {
   "cell_type": "code",
   "execution_count": 34,
   "metadata": {},
   "outputs": [],
   "source": [
    "X_train = X_train.reshape(X_train.shape[0], X_train.shape[1], 1)\n",
    "X_test = X_test.reshape(X_test.shape[0], X_test.shape[1], 1)"
   ]
  },
  {
   "cell_type": "code",
   "execution_count": 66,
   "metadata": {},
   "outputs": [],
   "source": [
    "model = Sequential()\n",
    "model.add(Conv1D(32, 2, activation='relu', input_shape=X_train[0].shape))\n",
    "model.add(BatchNormalization())\n",
    "model.add(Dropout(0.2))\n",
    "model.add(Flatten())\n",
    "model.add(Dense(64, activation='relu'))\n",
    "model.add(Dropout(0.3))\n",
    "model.add(Dense(1, activation='sigmoid'))"
   ]
  },
  {
   "cell_type": "code",
   "execution_count": 67,
   "metadata": {},
   "outputs": [
    {
     "name": "stdout",
     "output_type": "stream",
     "text": [
      "Model: \"sequential_9\"\n",
      "_________________________________________________________________\n",
      " Layer (type)                Output Shape              Param #   \n",
      "=================================================================\n",
      " conv1d_8 (Conv1D)           (None, 299, 32)           96        \n",
      "                                                                 \n",
      " batch_normalization_8 (Batc  (None, 299, 32)          128       \n",
      " hNormalization)                                                 \n",
      "                                                                 \n",
      " dropout_16 (Dropout)        (None, 299, 32)           0         \n",
      "                                                                 \n",
      " flatten_8 (Flatten)         (None, 9568)              0         \n",
      "                                                                 \n",
      " dense_20 (Dense)            (None, 64)                612416    \n",
      "                                                                 \n",
      " dropout_17 (Dropout)        (None, 64)                0         \n",
      "                                                                 \n",
      " dense_21 (Dense)            (None, 1)                 65        \n",
      "                                                                 \n",
      "=================================================================\n",
      "Total params: 612,705\n",
      "Trainable params: 612,641\n",
      "Non-trainable params: 64\n",
      "_________________________________________________________________\n"
     ]
    }
   ],
   "source": [
    "model.summary()"
   ]
  },
  {
   "cell_type": "code",
   "execution_count": 68,
   "metadata": {},
   "outputs": [
    {
     "name": "stdout",
     "output_type": "stream",
     "text": [
      "Epoch 1/20\n"
     ]
    },
    {
     "name": "stderr",
     "output_type": "stream",
     "text": [
      "2023-03-30 22:19:07.991942: I tensorflow/core/grappler/optimizers/custom_graph_optimizer_registry.cc:114] Plugin optimizer for device_type GPU is enabled.\n"
     ]
    },
    {
     "name": "stdout",
     "output_type": "stream",
     "text": [
      "19/19 [==============================] - ETA: 0s - loss: 0.7908 - accuracy: 0.4866"
     ]
    },
    {
     "name": "stderr",
     "output_type": "stream",
     "text": [
      "2023-03-30 22:19:09.666622: I tensorflow/core/grappler/optimizers/custom_graph_optimizer_registry.cc:114] Plugin optimizer for device_type GPU is enabled.\n"
     ]
    },
    {
     "name": "stdout",
     "output_type": "stream",
     "text": [
      "19/19 [==============================] - 2s 77ms/step - loss: 0.7908 - accuracy: 0.4866 - val_loss: 0.6917 - val_accuracy: 0.5267\n",
      "Epoch 2/20\n",
      "19/19 [==============================] - 0s 23ms/step - loss: 0.7021 - accuracy: 0.5652 - val_loss: 0.6887 - val_accuracy: 0.5667\n",
      "Epoch 3/20\n",
      "19/19 [==============================] - 0s 17ms/step - loss: 0.6712 - accuracy: 0.6154 - val_loss: 0.6864 - val_accuracy: 0.6133\n",
      "Epoch 4/20\n",
      "19/19 [==============================] - 0s 20ms/step - loss: 0.6494 - accuracy: 0.6288 - val_loss: 0.6845 - val_accuracy: 0.6400\n",
      "Epoch 5/20\n",
      "19/19 [==============================] - 0s 18ms/step - loss: 0.6209 - accuracy: 0.6438 - val_loss: 0.6820 - val_accuracy: 0.6533\n",
      "Epoch 6/20\n",
      "19/19 [==============================] - 0s 17ms/step - loss: 0.6185 - accuracy: 0.6505 - val_loss: 0.6793 - val_accuracy: 0.6667\n",
      "Epoch 7/20\n",
      "19/19 [==============================] - 0s 17ms/step - loss: 0.6063 - accuracy: 0.6739 - val_loss: 0.6759 - val_accuracy: 0.6667\n",
      "Epoch 8/20\n",
      "19/19 [==============================] - 0s 17ms/step - loss: 0.5698 - accuracy: 0.6906 - val_loss: 0.6724 - val_accuracy: 0.6867\n",
      "Epoch 9/20\n",
      "19/19 [==============================] - 0s 15ms/step - loss: 0.5593 - accuracy: 0.7191 - val_loss: 0.6685 - val_accuracy: 0.6933\n",
      "Epoch 10/20\n",
      "19/19 [==============================] - 0s 16ms/step - loss: 0.5483 - accuracy: 0.7258 - val_loss: 0.6643 - val_accuracy: 0.7000\n",
      "Epoch 11/20\n",
      "19/19 [==============================] - 0s 16ms/step - loss: 0.5516 - accuracy: 0.7341 - val_loss: 0.6602 - val_accuracy: 0.7133\n",
      "Epoch 12/20\n",
      "19/19 [==============================] - 0s 16ms/step - loss: 0.5337 - accuracy: 0.7425 - val_loss: 0.6562 - val_accuracy: 0.7267\n",
      "Epoch 13/20\n",
      "19/19 [==============================] - 0s 17ms/step - loss: 0.5172 - accuracy: 0.7274 - val_loss: 0.6510 - val_accuracy: 0.7267\n",
      "Epoch 14/20\n",
      "19/19 [==============================] - 0s 16ms/step - loss: 0.5109 - accuracy: 0.7475 - val_loss: 0.6450 - val_accuracy: 0.7267\n",
      "Epoch 15/20\n",
      "19/19 [==============================] - 0s 16ms/step - loss: 0.5051 - accuracy: 0.7542 - val_loss: 0.6390 - val_accuracy: 0.7333\n",
      "Epoch 16/20\n",
      "19/19 [==============================] - 0s 18ms/step - loss: 0.4889 - accuracy: 0.7726 - val_loss: 0.6324 - val_accuracy: 0.7400\n",
      "Epoch 17/20\n",
      "19/19 [==============================] - 0s 15ms/step - loss: 0.4733 - accuracy: 0.8010 - val_loss: 0.6260 - val_accuracy: 0.7400\n",
      "Epoch 18/20\n",
      "19/19 [==============================] - 0s 15ms/step - loss: 0.4694 - accuracy: 0.7876 - val_loss: 0.6199 - val_accuracy: 0.7400\n",
      "Epoch 19/20\n",
      "19/19 [==============================] - 0s 15ms/step - loss: 0.4559 - accuracy: 0.8027 - val_loss: 0.6119 - val_accuracy: 0.7400\n",
      "Epoch 20/20\n",
      "19/19 [==============================] - 0s 16ms/step - loss: 0.4440 - accuracy: 0.7993 - val_loss: 0.6054 - val_accuracy: 0.7400\n"
     ]
    }
   ],
   "source": [
    "epochs = 20\n",
    "model.compile(optimizer=Adam(0.00001), loss='binary_crossentropy', metrics=['accuracy'])\n",
    "history = model.fit(X_train, y_train, epochs=epochs, validation_data=(X_test, y_test))"
   ]
  },
  {
   "cell_type": "code",
   "execution_count": 64,
   "metadata": {},
   "outputs": [],
   "source": [
    "def plot_learningCurve(history, epoch):\n",
    "  # Plot training & validation accuracy values\n",
    "  epoch_range = range(1, epoch+1)\n",
    "  plt.plot(epoch_range, history.history['accuracy'])\n",
    "  plt.plot(epoch_range, history.history['val_accuracy'])\n",
    "  plt.title('Model accuracy')\n",
    "  plt.ylabel('Accuracy')\n",
    "  plt.xlabel('Epoch')\n",
    "  plt.legend(['Train', 'Val'], loc='upper left')\n",
    "  plt.show()\n",
    "\n",
    "  # Plot training & validation loss values\n",
    "  plt.plot(epoch_range, history.history['loss'])\n",
    "  plt.plot(epoch_range, history.history['val_loss'])\n",
    "  plt.title('Model loss')\n",
    "  plt.ylabel('Loss')\n",
    "  plt.xlabel('Epoch')\n",
    "  plt.legend(['Train', 'Val'], loc='upper left')\n",
    "  plt.show()"
   ]
  },
  {
   "cell_type": "code",
   "execution_count": 69,
   "metadata": {},
   "outputs": [
    {
     "data": {
      "image/png": "[encoded data removed]",
      "text/plain": [
       "<Figure size 640x480 with 1 Axes>"
      ]
     },
     "metadata": {},
     "output_type": "display_data"
    },
    {
     "data": {
      "image/png": "[encoded data removed]",
      "text/plain": [
       "<Figure size 640x480 with 1 Axes>"
      ]
     },
     "metadata": {},
     "output_type": "display_data"
    }
   ],
   "source": [
    "plot_learningCurve(history, epochs)"
   ]
  },
  {
   "cell_type": "code",
   "execution_count": 71,
   "metadata": {},
   "outputs": [
    {
     "name": "stdout",
     "output_type": "stream",
     "text": [
      "5/5 [==============================] - 0s 14ms/step\n"
     ]
    },
    {
     "name": "stderr",
     "output_type": "stream",
     "text": [
      "2023-03-30 22:22:25.997697: I tensorflow/core/grappler/optimizers/custom_graph_optimizer_registry.cc:114] Plugin optimizer for device_type GPU is enabled.\n"
     ]
    },
    {
     "data": {
      "text/plain": [
       "(<Figure size 640x480 with 1 Axes>,\n",
       " <Axes: xlabel='predicted label', ylabel='true label'>)"
      ]
     },
     "execution_count": 71,
     "metadata": {},
     "output_type": "execute_result"
    },
    {
     "data": {
      "image/png": "[encoded data removed]",
      "text/plain": [
       "<Figure size 640x480 with 1 Axes>"
      ]
     },
     "metadata": {},
     "output_type": "display_data"
    }
   ],
   "source": [
    "plot_confusion_matrix(confusion_matrix(y_test, (model.predict(X_test) > 0.5).astype(\"int32\")))"
   ]
  },
  {
   "attachments": {},
   "cell_type": "markdown",
   "metadata": {},
   "source": [
    "### Save and load the model and predict a new entry"
   ]
  },
  {
   "cell_type": "code",
   "execution_count": 73,
   "metadata": {},
   "outputs": [],
   "source": [
    "from tensorflow.keras.models import load_model\n",
    "\n",
    "model.save('models/1d_cnn', save_format='h5')"
   ]
  },
  {
   "cell_type": "code",
   "execution_count": 74,
   "metadata": {},
   "outputs": [],
   "source": [
    "model = load_model('models/1d_cnn')"
   ]
  },
  {
   "cell_type": "code",
   "execution_count": 90,
   "metadata": {},
   "outputs": [],
   "source": [
    "def get_pred(x, model, scaler):\n",
    "  x = pre_pro(x)\n",
    "  vec = x.reshape(1, -1)\n",
    "\n",
    "  vec = scaler.transform(vec)\n",
    "\n",
    "  vec = vec.reshape(1, 300, 1)\n",
    "  \n",
    "  y_pred = (model.predict(vec) > 0.5).astype(\"int32\")\n",
    "\n",
    "  return y_pred"
   ]
  },
  {
   "cell_type": "code",
   "execution_count": 91,
   "metadata": {},
   "outputs": [
    {
     "name": "stderr",
     "output_type": "stream",
     "text": [
      "2023-03-30 22:37:34.402308: I tensorflow/core/grappler/optimizers/custom_graph_optimizer_registry.cc:114] Plugin optimizer for device_type GPU is enabled.\n"
     ]
    },
    {
     "name": "stdout",
     "output_type": "stream",
     "text": [
      "1/1 [==============================] - 0s 490ms/step\n"
     ]
    },
    {
     "data": {
      "text/plain": [
       "array([[1]], dtype=int32)"
      ]
     },
     "execution_count": 91,
     "metadata": {},
     "output_type": "execute_result"
    }
   ],
   "source": [
    "x = 'it was a nice movie. thanks for making it'\n",
    "get_pred(x, model, scaler)"
   ]
  }
 ],
 "metadata": {
  "kernelspec": {
   "display_name": "Python 3.10 (tensorflow)",
   "language": "python",
   "name": "tensorflow"
  },
  "language_info": {
   "codemirror_mode": {
    "name": "ipython",
    "version": 3
   },
   "file_extension": ".py",
   "mimetype": "text/x-python",
   "name": "python",
   "nbconvert_exporter": "python",
   "pygments_lexer": "ipython3",
   "version": "3.10.10"
  },
  "orig_nbformat": 4
 },
 "nbformat": 4,
 "nbformat_minor": 2
}
